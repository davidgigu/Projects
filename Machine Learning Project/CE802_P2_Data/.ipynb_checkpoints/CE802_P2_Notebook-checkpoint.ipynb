{
 "cells": [
  {
   "cell_type": "markdown",
   "metadata": {},
   "source": [
    "### Part A"
   ]
  },
  {
   "cell_type": "code",
   "execution_count": 1,
   "metadata": {},
   "outputs": [],
   "source": [
    "# HERE YOU WILL WRITE CODE TO TEST A NUMBER OF PREDICTORS\n",
    "# AND FINALLY CHOOSE AND TRAIN THE PREDICTOR THAT YOU WILL BE USING FOR PART B\n",
    "\n",
    "#Importing the required libraries\n",
    "import pandas as pd\n",
    "import numpy as np\n",
    "from sklearn.tree import DecisionTreeClassifier\n",
    "from sklearn.ensemble import RandomForestClassifier\n",
    "from sklearn import svm\n",
    "from sklearn.neighbors import KNeighborsClassifier\n",
    "from sklearn.model_selection import train_test_split\n",
    "from sklearn import metrics\n",
    "import seaborn as sns"
   ]
  },
  {
   "cell_type": "code",
   "execution_count": 2,
   "metadata": {},
   "outputs": [],
   "source": [
    "#Reading the data from file into a pandas dataframe\n",
    "df=pd.read_csv(\"CE802_P2_Data.csv\")"
   ]
  },
  {
   "cell_type": "code",
   "execution_count": 3,
   "metadata": {},
   "outputs": [],
   "source": [
    "#Creating a correlation matrix\n",
    "cormat = df.corr()"
   ]
  },
  {
   "cell_type": "code",
   "execution_count": 4,
   "metadata": {},
   "outputs": [
    {
     "data": {
      "image/png": "[encoded data removed]",
      "text/plain": [
       "<Figure size 432x288 with 2 Axes>"
      ]
     },
     "metadata": {
      "needs_background": "light"
     },
     "output_type": "display_data"
    }
   ],
   "source": [
    "#Drawing a seaborn heatmap\n",
    "dataplot = sns.heatmap(cormat)"
   ]
  },
  {
   "cell_type": "code",
   "execution_count": 5,
   "metadata": {},
   "outputs": [],
   "source": [
    "#Handling the null values in F21. Different methods can be tried(should be the same used for test set). Please uncomment the code you want to try and comment the rest.\n",
    "#df['F21']=df['F21'].fillna(df['F21'].mean())\n",
    "#df['F21']=df['F21'].fillna(df['F21'].median())\n",
    "df['F21']=df['F21'].fillna(df['F21'].mode().iloc[0])\n",
    "#df['F21']=df['F21'].fillna(df['F21'].min())\n",
    "#df['F21']=df['F21'].fillna(df['F21'].max())\n",
    "#df['F21']=df['F21'].fillna(0)\n",
    "#df=df.drop('F21',1)"
   ]
  },
  {
   "cell_type": "code",
   "execution_count": 6,
   "metadata": {},
   "outputs": [
    {
     "data": {
      "text/plain": [
       "F1       0\n",
       "F2       0\n",
       "F3       0\n",
       "F4       0\n",
       "F5       0\n",
       "F6       0\n",
       "F7       0\n",
       "F8       0\n",
       "F9       0\n",
       "F10      0\n",
       "F11      0\n",
       "F12      0\n",
       "F13      0\n",
       "F14      0\n",
       "F15      0\n",
       "F16      0\n",
       "F17      0\n",
       "F18      0\n",
       "F19      0\n",
       "F20      0\n",
       "F21      0\n",
       "Class    0\n",
       "dtype: int64"
      ]
     },
     "execution_count": 6,
     "metadata": {},
     "output_type": "execute_result"
    }
   ],
   "source": [
    "#Checking if there are any more null values in the data\n",
    "df.isnull().sum()"
   ]
  },
  {
   "cell_type": "code",
   "execution_count": 7,
   "metadata": {},
   "outputs": [],
   "source": [
    "#Splitting the data into features and target data\n",
    "X=df.iloc[:,:-1]\n",
    "Y=df['Class']"
   ]
  },
  {
   "cell_type": "code",
   "execution_count": 8,
   "metadata": {},
   "outputs": [],
   "source": [
    "#Splitting the data into training and validation set using train_test_split\n",
    "X_train, X_test, Y_train, Y_test = train_test_split(X, Y, test_size=0.2, random_state=1)"
   ]
  },
  {
   "cell_type": "markdown",
   "metadata": {},
   "source": [
    "# a. Decision Tree Classifier"
   ]
  },
  {
   "cell_type": "code",
   "execution_count": 9,
   "metadata": {},
   "outputs": [],
   "source": [
    "#Declaring the Decision Tree classifier\n",
    "clf1 = DecisionTreeClassifier(random_state=0,criterion=\"entropy\",max_depth=10)"
   ]
  },
  {
   "cell_type": "code",
   "execution_count": 10,
   "metadata": {},
   "outputs": [],
   "source": [
    "#Fitting the Decision Tree Classifier\n",
    "clf1 = clf1.fit(X_train,Y_train)"
   ]
  },
  {
   "cell_type": "code",
   "execution_count": 11,
   "metadata": {},
   "outputs": [],
   "source": [
    "#Predicting the result for validation data\n",
    "Y_pred1 = clf1.predict(X_test)"
   ]
  },
  {
   "cell_type": "code",
   "execution_count": 12,
   "metadata": {},
   "outputs": [
    {
     "name": "stdout",
     "output_type": "stream",
     "text": [
      "Accuracy of Decision tree classifier: 0.875\n",
      "Precision of Decision tree classifier: 0.8631578947368421\n",
      "Recall of Decision tree classifier: 0.8723404255319149\n",
      "F1 score of Decision tree classifier: 0.8677248677248677\n"
     ]
    }
   ],
   "source": [
    "#Evaluating the performance of the model on validation data\n",
    "print(\"Accuracy of Decision tree classifier:\",metrics.accuracy_score(Y_test, Y_pred1))\n",
    "print(\"Precision of Decision tree classifier:\",metrics.precision_score(Y_test, Y_pred1))\n",
    "print(\"Recall of Decision tree classifier:\",metrics.recall_score(Y_test, Y_pred1))\n",
    "print(\"F1 score of Decision tree classifier:\",metrics.f1_score(Y_test, Y_pred1))"
   ]
  },
  {
   "cell_type": "markdown",
   "metadata": {},
   "source": [
    "# b. Random Forest Classifier"
   ]
  },
  {
   "cell_type": "code",
   "execution_count": 13,
   "metadata": {},
   "outputs": [],
   "source": [
    "#Declaring the Random Forest Classifier\n",
    "clf2 = RandomForestClassifier(max_depth=10,random_state=0)"
   ]
  },
  {
   "cell_type": "code",
   "execution_count": 14,
   "metadata": {},
   "outputs": [],
   "source": [
    "#Fitting the Random Forest Classifier\n",
    "clf2 = clf2.fit(X_train,Y_train)"
   ]
  },
  {
   "cell_type": "code",
   "execution_count": 15,
   "metadata": {},
   "outputs": [],
   "source": [
    "#Predicting the result for validation data\n",
    "Y_pred2 = clf2.predict(X_test)"
   ]
  },
  {
   "cell_type": "code",
   "execution_count": 16,
   "metadata": {},
   "outputs": [
    {
     "name": "stdout",
     "output_type": "stream",
     "text": [
      "Accuracy of Random Forest classifier: 0.905\n",
      "Precision of Random Forest classifier: 0.8947368421052632\n",
      "Recall of Random Forest classifier: 0.9042553191489362\n",
      "F1 score of Random Forest classifier: 0.8994708994708994\n"
     ]
    }
   ],
   "source": [
    "#Evaluating the performance of the model on validation data\n",
    "print(\"Accuracy of Random Forest classifier:\",metrics.accuracy_score(Y_test, Y_pred2))\n",
    "print(\"Precision of Random Forest classifier:\",metrics.precision_score(Y_test, Y_pred2))\n",
    "print(\"Recall of Random Forest classifier:\",metrics.recall_score(Y_test, Y_pred2))\n",
    "print(\"F1 score of Random Forest classifier:\",metrics.f1_score(Y_test, Y_pred2))"
   ]
  },
  {
   "cell_type": "markdown",
   "metadata": {},
   "source": [
    "# c. Support Vector Machine"
   ]
  },
  {
   "cell_type": "code",
   "execution_count": 17,
   "metadata": {},
   "outputs": [],
   "source": [
    "#Declaring the Support Vector Machine classifier\n",
    "clf3=svm.SVC()"
   ]
  },
  {
   "cell_type": "code",
   "execution_count": 18,
   "metadata": {},
   "outputs": [],
   "source": [
    "#Fitting the Support Vector Machine classifier\n",
    "clf3 = clf3.fit(X_train,Y_train)"
   ]
  },
  {
   "cell_type": "code",
   "execution_count": 19,
   "metadata": {},
   "outputs": [],
   "source": [
    "#Predicting the result for validation data\n",
    "Y_pred3 = clf3.predict(X_test)"
   ]
  },
  {
   "cell_type": "code",
   "execution_count": 20,
   "metadata": {},
   "outputs": [
    {
     "name": "stdout",
     "output_type": "stream",
     "text": [
      "Accuracy of Support Vector Machine classifier: 0.715\n",
      "Precision of Support Vector Machine classifier: 0.7936507936507936\n",
      "Recall of Support Vector Machine classifier: 0.5319148936170213\n",
      "F1 score of Support Vector Machine classifier: 0.6369426751592357\n"
     ]
    }
   ],
   "source": [
    "#Evaluating the performance of the model on validation data\n",
    "print(\"Accuracy of Support Vector Machine classifier:\",metrics.accuracy_score(Y_test, Y_pred3))\n",
    "print(\"Precision of Support Vector Machine classifier:\",metrics.precision_score(Y_test, Y_pred3))\n",
    "print(\"Recall of Support Vector Machine classifier:\",metrics.recall_score(Y_test, Y_pred3))\n",
    "print(\"F1 score of Support Vector Machine classifier:\",metrics.f1_score(Y_test, Y_pred3))"
   ]
  },
  {
   "cell_type": "markdown",
   "metadata": {},
   "source": [
    "# d. K nearest neighbour"
   ]
  },
  {
   "cell_type": "code",
   "execution_count": 21,
   "metadata": {},
   "outputs": [],
   "source": [
    "#Declaring the K nearest neighbour classifier\n",
    "clf4=KNeighborsClassifier(n_neighbors=20)"
   ]
  },
  {
   "cell_type": "code",
   "execution_count": 22,
   "metadata": {},
   "outputs": [],
   "source": [
    "#Fitting the K nearest neighbour classifier\n",
    "clf4 = clf4.fit(X_train,Y_train)"
   ]
  },
  {
   "cell_type": "code",
   "execution_count": 23,
   "metadata": {},
   "outputs": [],
   "source": [
    "#Predicting the result for validation data\n",
    "Y_pred4 = clf4.predict(X_test)"
   ]
  },
  {
   "cell_type": "code",
   "execution_count": 24,
   "metadata": {},
   "outputs": [
    {
     "name": "stdout",
     "output_type": "stream",
     "text": [
      "Accuracy of K nearest neighbour classifier: 0.665\n",
      "Precision of K nearest neighbour classifier: 0.6483516483516484\n",
      "Recall of K nearest neighbour classifier: 0.6276595744680851\n",
      "F1 score of K nearest neighbour classifier: 0.6378378378378379\n"
     ]
    }
   ],
   "source": [
    "#Evaluating the performance of the model on validation data\n",
    "print(\"Accuracy of K nearest neighbour classifier:\",metrics.accuracy_score(Y_test, Y_pred4))\n",
    "print(\"Precision of K nearest neighbour classifier:\",metrics.precision_score(Y_test, Y_pred4))\n",
    "print(\"Recall of K nearest neighbour classifier:\",metrics.recall_score(Y_test, Y_pred4))\n",
    "print(\"F1 score of K nearest neighbour classifier:\",metrics.f1_score(Y_test, Y_pred4))"
   ]
  },
  {
   "cell_type": "markdown",
   "metadata": {},
   "source": [
    "### Part B"
   ]
  },
  {
   "cell_type": "code",
   "execution_count": 25,
   "metadata": {},
   "outputs": [],
   "source": [
    "# HERE YOU WILL USE THIS TEMPLATE TO SAVE THE PREDICTIONS ON THE TEST SET\n",
    "\n",
    "# Load the test data\n",
    "test_df = pd.read_csv('CE802_P2_Test.csv')\n",
    "\n",
    "# Make sure you work on a copy\n",
    "test_data = test_df.iloc[:,:-1].copy()\n",
    "\n",
    "#Handling the null values in the data\n",
    "#test_data['F21']=test_data['F21'].fillna(test_data['F21'].mean())\n",
    "#test_data['F21']=test_data['F21'].fillna(test_data['F21'].median())\n",
    "test_data['F21']=test_data['F21'].fillna(test_data['F21'].mode().iloc[0])\n",
    "#test_data['F21']=test_data['F21'].fillna(test_data['F21'].min())\n",
    "#test_data['F21']=test_data['F21'].fillna(test_data['F21'].max())\n",
    "#test_data['F21']=test_data['F21'].fillna(0)\n",
    "#test_data=test_data.drop('F21',1)\n",
    "\n",
    "predicted = clf2.predict(test_data) # CHANGE HERE -- use your previously trained predictor and apply it to test_data\n",
    "                # (test_data can be modified if needed but make sure you don't change the order of the rows)...\n",
    "\n",
    "# Replace the last (empty) column with your prediction\n",
    "test_df.iloc[:,-1] = predicted\n",
    "\n",
    "# Save to the destination file\n",
    "test_df.to_csv('CE802_P2_Test_Predictions.csv', index=False, float_format='%.8g')\n",
    "\n",
    "# IMPORTANT!! Make sure only the last column has changed\n",
    "assert pd.read_csv('CE802_P2_Test.csv').iloc[:,:-1].equals(pd.read_csv('CE802_P2_Test_Predictions.csv').iloc[:,:-1])"
   ]
  }
 ],
 "metadata": {
  "kernelspec": {
   "display_name": "Python 3 (ipykernel)",
   "language": "python",
   "name": "python3"
  },
  "language_info": {
   "codemirror_mode": {
    "name": "ipython",
    "version": 3
   },
   "file_extension": ".py",
   "mimetype": "text/x-python",
   "name": "python",
   "nbconvert_exporter": "python",
   "pygments_lexer": "ipython3",
   "version": "3.9.7"
  }
 },
 "nbformat": 4,
 "nbformat_minor": 4
}
