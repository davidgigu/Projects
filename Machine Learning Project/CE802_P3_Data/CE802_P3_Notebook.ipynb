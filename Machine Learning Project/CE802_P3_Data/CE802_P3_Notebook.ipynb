{
 "cells": [
  {
   "cell_type": "markdown",
   "metadata": {},
   "source": [
    "### Part A"
   ]
  },
  {
   "cell_type": "code",
   "execution_count": 1,
   "metadata": {},
   "outputs": [],
   "source": [
    "# HERE YOU WILL WRITE CODE TO TEST A NUMBER OF PREDICTORS\n",
    "# AND FINALLY CHOOSE AND TRAIN THE PREDICTOR THAT YOU WILL BE USING FOR PART B\n",
    "\n",
    "#Importing the required libraries\n",
    "import pandas as pd\n",
    "import numpy as np\n",
    "from sklearn.model_selection import train_test_split\n",
    "from sklearn import preprocessing\n",
    "from sklearn.metrics import r2_score\n",
    "from sklearn.metrics import mean_squared_error\n",
    "from sklearn.linear_model import LinearRegression\n",
    "from sklearn.linear_model import Ridge\n",
    "from sklearn import ensemble\n",
    "import seaborn as sns"
   ]
  },
  {
   "cell_type": "code",
   "execution_count": 2,
   "metadata": {},
   "outputs": [],
   "source": [
    "#Reading the data from file into a pandas dataframe\n",
    "df=pd.read_csv(\"CE802_P3_Data.csv\")"
   ]
  },
  {
   "cell_type": "code",
   "execution_count": 3,
   "metadata": {},
   "outputs": [],
   "source": [
    "#Creating a correlation matrix\n",
    "cormat = df.corr()"
   ]
  },
  {
   "cell_type": "code",
   "execution_count": 4,
   "metadata": {},
   "outputs": [
    {
     "data": {
      "text/plain": [
       "<AxesSubplot:>"
      ]
     },
     "execution_count": 4,
     "metadata": {},
     "output_type": "execute_result"
    },
    {
     "data": {
      "image/png": "[encoded data removed]",
      "text/plain": [
       "<Figure size 432x288 with 2 Axes>"
      ]
     },
     "metadata": {
      "needs_background": "light"
     },
     "output_type": "display_data"
    }
   ],
   "source": [
    "#Drawing a seaborn heatmap\n",
    "sns.heatmap(cormat)"
   ]
  },
  {
   "cell_type": "code",
   "execution_count": 5,
   "metadata": {},
   "outputs": [],
   "source": [
    "#Label Encoding to deal with categorical data\n",
    "df.replace({\"F10\":{\"Very low\": 1,\"Low\":2,\"Medium\":3,\"High\":4,\"Very high\":5}},inplace=True)\n",
    "df.replace({\"F6\":{\"USA\":1,\"Europe\":2,\"UK\":3,\"Rest\":4}},inplace=True)"
   ]
  },
  {
   "cell_type": "code",
   "execution_count": 6,
   "metadata": {},
   "outputs": [
    {
     "data": {
      "text/plain": [
       "F1        0\n",
       "F2        0\n",
       "F3        0\n",
       "F4        0\n",
       "F5        0\n",
       "F6        0\n",
       "F7        0\n",
       "F8        0\n",
       "F9        0\n",
       "F10       0\n",
       "F11       0\n",
       "F12       0\n",
       "F13       0\n",
       "F14       0\n",
       "F15       0\n",
       "F16       0\n",
       "F17       0\n",
       "F18       0\n",
       "F19       0\n",
       "F20       0\n",
       "F21       0\n",
       "F22       0\n",
       "F23       0\n",
       "F24       0\n",
       "F25       0\n",
       "F26       0\n",
       "F27       0\n",
       "F28       0\n",
       "F29       0\n",
       "F30       0\n",
       "F31       0\n",
       "F32       0\n",
       "F33       0\n",
       "F34       0\n",
       "F35       0\n",
       "F36       0\n",
       "Target    0\n",
       "dtype: int64"
      ]
     },
     "execution_count": 6,
     "metadata": {},
     "output_type": "execute_result"
    }
   ],
   "source": [
    "#Checking if there are any null values in the data\n",
    "df.isnull().sum()"
   ]
  },
  {
   "cell_type": "code",
   "execution_count": 7,
   "metadata": {},
   "outputs": [],
   "source": [
    "#Splitting the data into features and target data\n",
    "X=df.iloc[:,:-1]\n",
    "Y=df['Target']"
   ]
  },
  {
   "cell_type": "code",
   "execution_count": 8,
   "metadata": {},
   "outputs": [],
   "source": [
    "#Splitting the data into training and validation set using train_test_split\n",
    "X_train, X_test, Y_train, Y_test = train_test_split(X, Y, test_size=0.1, random_state=1)"
   ]
  },
  {
   "cell_type": "markdown",
   "metadata": {},
   "source": [
    "# a. Linear Regression"
   ]
  },
  {
   "cell_type": "code",
   "execution_count": 9,
   "metadata": {},
   "outputs": [],
   "source": [
    "#Declaring the Linear Regressor\n",
    "regr1 = LinearRegression()"
   ]
  },
  {
   "cell_type": "code",
   "execution_count": 10,
   "metadata": {},
   "outputs": [
    {
     "data": {
      "text/plain": [
       "LinearRegression()"
      ]
     },
     "execution_count": 10,
     "metadata": {},
     "output_type": "execute_result"
    }
   ],
   "source": [
    "#Fitting the Linear Regressor\n",
    "regr1.fit(X_train, Y_train)"
   ]
  },
  {
   "cell_type": "code",
   "execution_count": 11,
   "metadata": {},
   "outputs": [],
   "source": [
    "#Predicting the result for validation data\n",
    "Y_pred1=regr1.predict(X_test)"
   ]
  },
  {
   "cell_type": "code",
   "execution_count": 12,
   "metadata": {},
   "outputs": [
    {
     "name": "stdout",
     "output_type": "stream",
     "text": [
      "r2 score of Linear Regressor: 0.6916224683628921\n",
      "Mean squared error of Linear Regressor: 490919.1953777483\n",
      "Root Mean Squared Error of Linear Regressor: 700.6562604999318\n"
     ]
    }
   ],
   "source": [
    "#Evaluating the performance of the model on validation data\n",
    "print(\"r2 score of Linear Regressor:\",r2_score(Y_test,Y_pred1))\n",
    "print(\"Mean squared error of Linear Regressor:\",mean_squared_error(Y_test,Y_pred1))\n",
    "print(\"Root Mean Squared Error of Linear Regressor:\",np.sqrt(mean_squared_error(Y_test,Y_pred1)))"
   ]
  },
  {
   "cell_type": "markdown",
   "metadata": {},
   "source": [
    "# b. Ridge Regression"
   ]
  },
  {
   "cell_type": "code",
   "execution_count": 13,
   "metadata": {},
   "outputs": [],
   "source": [
    "#Declaring the Ridge Regressor\n",
    "regr2 = Ridge(alpha=1.0)"
   ]
  },
  {
   "cell_type": "code",
   "execution_count": 14,
   "metadata": {},
   "outputs": [
    {
     "data": {
      "text/plain": [
       "Ridge()"
      ]
     },
     "execution_count": 14,
     "metadata": {},
     "output_type": "execute_result"
    }
   ],
   "source": [
    "#Fitting the Ridge Regressor\n",
    "regr2.fit(X_train, Y_train)"
   ]
  },
  {
   "cell_type": "code",
   "execution_count": 15,
   "metadata": {},
   "outputs": [],
   "source": [
    "#Predicting the result for validation data\n",
    "Y_pred2=regr2.predict(X_test)"
   ]
  },
  {
   "cell_type": "code",
   "execution_count": 16,
   "metadata": {},
   "outputs": [
    {
     "name": "stdout",
     "output_type": "stream",
     "text": [
      "r2 score of Linear Regressor: 0.6916047275860047\n",
      "Mean squared error of Linear Regressor: 490947.43766851665\n",
      "Root Mean Squared Error of Linear Regressor: 700.6764143800737\n"
     ]
    }
   ],
   "source": [
    "#Evaluating the performance of the model on validation data\n",
    "print(\"r2 score of Linear Regressor:\",r2_score(Y_test,Y_pred2))\n",
    "print(\"Mean squared error of Linear Regressor:\",mean_squared_error(Y_test,Y_pred2))\n",
    "print(\"Root Mean Squared Error of Linear Regressor:\",np.sqrt(mean_squared_error(Y_test,Y_pred2)))"
   ]
  },
  {
   "cell_type": "markdown",
   "metadata": {},
   "source": [
    "# c. Gradient Boosting Regression"
   ]
  },
  {
   "cell_type": "code",
   "execution_count": 17,
   "metadata": {},
   "outputs": [],
   "source": [
    "#Declaring the Gradient Boosting Regressor\n",
    "regr3 = ensemble.GradientBoostingRegressor(loss=\"huber\",learning_rate=0.3)"
   ]
  },
  {
   "cell_type": "code",
   "execution_count": 18,
   "metadata": {},
   "outputs": [
    {
     "data": {
      "text/plain": [
       "GradientBoostingRegressor(learning_rate=0.3, loss='huber')"
      ]
     },
     "execution_count": 18,
     "metadata": {},
     "output_type": "execute_result"
    }
   ],
   "source": [
    "#Fitting the Gradient Boosting Regressor\n",
    "regr3.fit(X_train, Y_train)"
   ]
  },
  {
   "cell_type": "code",
   "execution_count": 19,
   "metadata": {},
   "outputs": [],
   "source": [
    "#Predicting the result for validation data\n",
    "Y_pred3=regr3.predict(X_test)"
   ]
  },
  {
   "cell_type": "code",
   "execution_count": 20,
   "metadata": {},
   "outputs": [
    {
     "name": "stdout",
     "output_type": "stream",
     "text": [
      "r2 score of Linear Regressor: 0.8656086349549659\n",
      "Mean squared error of Linear Regressor: 213943.28063843428\n",
      "Root Mean Squared Error of Linear Regressor: 462.540031390186\n"
     ]
    }
   ],
   "source": [
    "#Evaluating the performance of the model on validation data\n",
    "print(\"r2 score of Linear Regressor:\",r2_score(Y_test,Y_pred3))\n",
    "print(\"Mean squared error of Linear Regressor:\",mean_squared_error(Y_test,Y_pred3))\n",
    "print(\"Root Mean Squared Error of Linear Regressor:\",np.sqrt(mean_squared_error(Y_test,Y_pred3)))"
   ]
  },
  {
   "cell_type": "markdown",
   "metadata": {},
   "source": [
    "### Part B"
   ]
  },
  {
   "cell_type": "code",
   "execution_count": 21,
   "metadata": {},
   "outputs": [],
   "source": [
    "# HERE YOU WILL USE THIS TEMPLATE TO SAVE THE PREDICTIONS ON THE TEST SET\n",
    "\n",
    "# Load the test data\n",
    "test_df = pd.read_csv('CE802_P3_Test.csv')\n",
    "\n",
    "# Make sure you work on a copy\n",
    "test_data = test_df.iloc[:,:-1].copy()\n",
    "\n",
    "#Label Encoding to deal with categorical data\n",
    "test_data.replace({\"F10\":{\"Very low\": 1,\"Low\":2,\"Medium\":3,\"High\":4,\"Very high\":5}},inplace=True)\n",
    "test_data.replace({\"F6\":{\"USA\":1,\"Europe\":2,\"UK\":3,\"Rest\":4}},inplace=True)\n",
    "\n",
    "predicted = regr3.predict(test_data) # CHANGE HERE -- use your previously trained predictor and apply it to test_data\n",
    "                # (test_data can be modified if needed but make sure you don't change the order of the rows)...\n",
    "\n",
    "# Replace the last (empty) column with your prediction\n",
    "test_df.iloc[:,-1] = predicted\n",
    "\n",
    "# Save to the destination file\n",
    "test_df.to_csv('CE802_P3_Test_Predictions.csv', index=False, float_format='%.8g')\n",
    "\n",
    "# IMPORTANT!! Make sure only the last column has changed\n",
    "assert pd.read_csv('CE802_P3_Test.csv').iloc[:,:-1].equals(pd.read_csv('CE802_P3_Test_Predictions.csv').iloc[:,:-1])"
   ]
  }
 ],
 "metadata": {
  "kernelspec": {
   "display_name": "Python 3 (ipykernel)",
   "language": "python",
   "name": "python3"
  },
  "language_info": {
   "codemirror_mode": {
    "name": "ipython",
    "version": 3
   },
   "file_extension": ".py",
   "mimetype": "text/x-python",
   "name": "python",
   "nbconvert_exporter": "python",
   "pygments_lexer": "ipython3",
   "version": "3.9.7"
  }
 },
 "nbformat": 4,
 "nbformat_minor": 4
}
